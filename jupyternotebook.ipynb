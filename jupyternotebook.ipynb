{
 "nbformat": 4,
 "nbformat_minor": 2,
 "metadata": {
  "language_info": {
   "name": "python",
   "codemirror_mode": {
    "name": "ipython",
    "version": 3
   },
   "version": "3.7.4"
  },
  "orig_nbformat": 2,
  "file_extension": ".py",
  "mimetype": "text/x-python",
  "name": "python",
  "npconvert_exporter": "python",
  "pygments_lexer": "ipython3",
  "version": 3
 },
 "cells": [
  {
   "cell_type": "code",
   "execution_count": 1,
   "metadata": {},
   "outputs": [
    {
     "name": "stdout",
     "output_type": "stream",
     "text": "generation biomass  generation fossil brown coal/lignite  generation fossil coal-derived gas  generation fossil gas  generation fossil hard coal  generation fossil oil  generation fossil oil shale  generation fossil peat  generation geothermal  generation hydro pumped storage aggregated  generation hydro pumped storage consumption  generation hydro run-of-river and poundage  generation hydro water reservoir  generation marine  generation nuclear  generation other  generation other renewable  generation solar  generation waste  generation wind offshore  generation wind onshore  forecast solar day ahead  forecast wind offshore eday ahead  forecast wind onshore day ahead  total load forecast  total load actual  price day ahead  price actual\ntime                                                                                                                                                                                                                                                                                                                                                                                                                                                                                                                                                                                                                                                                                                                                                                                                  \n2015-01-01 00:00:00+01:00               447.0                                 329.0                                 0.0                 4844.0                       4821.0                  162.0                          0.0                     0.0                    0.0                                         NaN                                        863.0                                      1051.0                            1899.0                0.0              7096.0              43.0                        73.0              49.0             196.0                       0.0                   6378.0                      17.0                                NaN                           6436.0              26118.0            25385.0             50.1         65.41\n"
    }
   ],
   "source": [
    "import numpy as np # linear algebra\n",
    "import pandas as pd # data processing\n",
    "\n",
    "import matplotlib.pyplot as plt\n",
    "import seaborn as sns\n",
    "sns.set_style('dark')\n",
    "\n",
    "#import keras\n",
    "import tensorflow\n",
    "\n",
    "from sklearn.preprocessing import MinMaxScaler\n",
    "from sklearn.model_selection import TimeSeriesSplit\n",
    "\n",
    "from statsmodels.graphics.tsaplots import plot_acf, plot_pacf\n",
    "\n",
    "# Any results you write to the current directory are saved as output.\n",
    "pd.set_option('display.max_rows', 500)\n",
    "pd.set_option('display.max_columns', 500)\n",
    "pd.set_option('display.width', 1000)\n",
    "\n",
    "\n",
    "#load the data\n",
    "data = pd.read_csv('C:/Users/umkarasi/Desktop/vscode/timeseriespower/data/energy_dataset.csv',\n",
    "                   index_col=0,\n",
    "                   parse_dates=[0])\n",
    "\n",
    "data.head(1)"
   ]
  },
  {
   "cell_type": "code",
   "execution_count": null,
   "metadata": {},
   "outputs": [],
   "source": []
  }
 ]
}